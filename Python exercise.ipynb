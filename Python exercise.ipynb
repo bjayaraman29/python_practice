{
 "cells": [
  {
   "cell_type": "code",
   "execution_count": 27,
   "metadata": {},
   "outputs": [
    {
     "name": "stdout",
     "output_type": "stream",
     "text": [
      "not leap year\n"
     ]
    }
   ],
   "source": [
    "# leap year\n",
    "y=1800\n",
    "\n",
    "if y%4==0:\n",
    "    if y%100==0:\n",
    "        if y%400==0:\n",
    "            print('leap year')\n",
    "        else:\n",
    "            print('not leap year')\n",
    "    else:\n",
    "        print('leap year')\n",
    "else:\n",
    "    print('not leap year')"
   ]
  },
  {
   "cell_type": "code",
   "execution_count": 35,
   "metadata": {},
   "outputs": [
    {
     "name": "stdout",
     "output_type": "stream",
     "text": [
      "Enter a number to check:17\n",
      "Prime Number\n"
     ]
    }
   ],
   "source": [
    "#prime number\n",
    "n=int(input('Enter a number to check:'))\n",
    "if n>1:\n",
    "    for i in range(2,n):\n",
    "        if n%i==0:\n",
    "            print('not prime number')\n",
    "            break\n",
    "    else:\n",
    "        print('Prime Number')\n"
   ]
  },
  {
   "cell_type": "code",
   "execution_count": 42,
   "metadata": {},
   "outputs": [
    {
     "name": "stdout",
     "output_type": "stream",
     "text": [
      "Prime Number 11\n",
      "Prime Number 13\n",
      "Prime Number 17\n",
      "Prime Number 19\n"
     ]
    }
   ],
   "source": [
    "# prime number between interval\n",
    "for n in range(10,20):\n",
    "    if n>1:\n",
    "        for i in range(2,n):\n",
    "            if n%i==0:\n",
    "                break\n",
    "        else:\n",
    "            print('Prime Number',n)\n"
   ]
  },
  {
   "cell_type": "code",
   "execution_count": 44,
   "metadata": {},
   "outputs": [
    {
     "name": "stdout",
     "output_type": "stream",
     "text": [
      "120\n"
     ]
    }
   ],
   "source": [
    "number=5\n",
    "fact=1\n",
    "for i in range(1,number+1):\n",
    "    fact*=i\n",
    "print(fact)\n",
    "    "
   ]
  },
  {
   "cell_type": "code",
   "execution_count": 49,
   "metadata": {},
   "outputs": [
    {
     "data": {
      "text/plain": [
       "120"
      ]
     },
     "execution_count": 49,
     "metadata": {},
     "output_type": "execute_result"
    }
   ],
   "source": [
    "number=5\n",
    "from functools import reduce\n",
    "fact1=reduce( lambda x,y:x*y,range(1,number+1))\n",
    "fact1"
   ]
  },
  {
   "cell_type": "code",
   "execution_count": 50,
   "metadata": {},
   "outputs": [
    {
     "name": "stdout",
     "output_type": "stream",
     "text": [
      "0\n",
      "1\n",
      "1\n",
      "2\n",
      "3\n",
      "5\n",
      "8\n",
      "13\n",
      "21\n",
      "34\n"
     ]
    }
   ],
   "source": [
    "number=10\n",
    "n1=0\n",
    "n2=1\n",
    "count=0\n",
    "if number<=0:\n",
    "    print(n1)\n",
    "elif number==1:\n",
    "    print(n2)\n",
    "else:\n",
    "    while count<number:\n",
    "        print(n1)\n",
    "        nth=n1+n2\n",
    "        n1=n2\n",
    "        n2=nth\n",
    "        count+=1\n",
    "        "
   ]
  },
  {
   "cell_type": "code",
   "execution_count": 52,
   "metadata": {},
   "outputs": [
    {
     "name": "stdout",
     "output_type": "stream",
     "text": [
      "How many terms? 10\n",
      "0\n",
      "1\n",
      "1\n",
      "2\n",
      "3\n",
      "5\n",
      "8\n",
      "13\n",
      "21\n",
      "34\n"
     ]
    }
   ],
   "source": [
    "# fibonacci\n",
    "num = int(input(\"How many terms? \"))\n",
    "n1=0\n",
    "n2=1\n",
    "count = 0\n",
    "\n",
    "if num <= 0:\n",
    "   print(\"Please enter a positive integer\")\n",
    "elif num == 1:\n",
    "   print(n1)\n",
    "else:\n",
    "   while count < num:\n",
    "       print(n1)\n",
    "       nth = n1 + n2\n",
    "       # update values\n",
    "       n1 = n2\n",
    "       n2 = nth\n",
    "       count += 1"
   ]
  },
  {
   "cell_type": "code",
   "execution_count": 60,
   "metadata": {},
   "outputs": [
    {
     "data": {
      "text/plain": [
       "[153, 370, 371, 407]"
      ]
     },
     "execution_count": 60,
     "metadata": {},
     "output_type": "execute_result"
    }
   ],
   "source": [
    "# arms trong number\n",
    "final_list=[]\n",
    "for j in range(10,1000):\n",
    "    temp=0\n",
    "    for i in str(j):\n",
    "        temp+=int(i)**len(str(j))\n",
    "    if j==temp:\n",
    "        final_list.append(temp)\n",
    "        \n",
    "            \n",
    "final_list    "
   ]
  },
  {
   "cell_type": "code",
   "execution_count": 63,
   "metadata": {},
   "outputs": [
    {
     "name": "stdout",
     "output_type": "stream",
     "text": [
      "[[84, 90, 96], [201, 216, 231], [318, 342, 366]]\n"
     ]
    }
   ],
   "source": [
    "# matrix multiplication\n",
    "x = [[1,2,3],  \n",
    "       [4,5,6],  \n",
    "       [7,8,9]]  \n",
    "  \n",
    "y = [[10,11,12],  \n",
    "      [13,14,15],  \n",
    "      [16,17,18]]  \n",
    "  \n",
    "Result = [[0,0,0],  \n",
    "               [0,0,0],  \n",
    "              [0,0,0]]  \n",
    "for i in range(len(x)):\n",
    "    for j in range(len(y[0])):\n",
    "        for k in range(len(y)):\n",
    "            Result[i][j]+=x[i][k]*y[k][j]\n",
    "print(Result)"
   ]
  },
  {
   "cell_type": "code",
   "execution_count": 65,
   "metadata": {},
   "outputs": [
    {
     "name": "stdout",
     "output_type": "stream",
     "text": [
      "[[11, 13, 15], [17, 19, 21], [23, 25, 27]]\n"
     ]
    }
   ],
   "source": [
    "# matix addition\n",
    "a = [[1,2,3],  \n",
    "       [4,5,6],  \n",
    "       [7,8,9]]  \n",
    "  \n",
    "b = [[10,11,12],  \n",
    "       [13,14,15],  \n",
    "       [16,17,18]]  \n",
    "  \n",
    "out = [[0,0,0],  \n",
    "                [0,0,0],  \n",
    "                [0,0,0]]  \n",
    "for i in range(len(a)):\n",
    "    for j in range(len(a)):\n",
    "        out[i][j]=a[i][j]+b[i][j]\n",
    "print(out)"
   ]
  },
  {
   "cell_type": "code",
   "execution_count": 67,
   "metadata": {},
   "outputs": [
    {
     "name": "stdout",
     "output_type": "stream",
     "text": [
      "[1, 4, 7]\n",
      "[2, 5, 8]\n"
     ]
    }
   ],
   "source": [
    "# transpose\n",
    "\n",
    "X = [[1,2],  \n",
    "      [4,5],  \n",
    "     [7,8]]  \n",
    "  \n",
    "result = [[0,0,0],  \n",
    "             [0,0,0]]  \n",
    "  \n",
    "# iterate through rows  \n",
    "for i in range(len(X)):  \n",
    "   for j in range(len(X[0])):  \n",
    "       result[j][i] = X[i][j]  \n",
    "  \n",
    "for r in result:  \n",
    "   print(r)  "
   ]
  },
  {
   "cell_type": "code",
   "execution_count": 2,
   "metadata": {},
   "outputs": [
    {
     "name": "stdout",
     "output_type": "stream",
     "text": [
      "[0, 5, 11, 21, 34, 61, 89, 134, 213, 313]\n",
      "[45, 100, 28, 100, 45, 13, 100, 79, 79, 45, 13, 28, 45, 100, 79, 100, 45, 79, 100, 79, 100, 79, 100, 79, 100, 45, 28, 100, 100, 100, 6, 13, 100, 79, 79, 79, 79, 6, 100, 100, 100, 100, 100, 100, 100, 100, 45, 100, 100, 100, 28, 10, 45, 45, 79, 45, 79, 28, 79, 13, 100, 45, 6, 28, 100, 5, 79, 100, 79, 79, 6, 100, 100, 100, 79, 79, 27, 79, 79, 45, 79, 45, 27, 79, 100, 79, 79, 45, 10, 79, 27, 45, 79, 100, 13, 45, 100, 45, 100, 79]\n",
      "[[0, 0], [5, 1], [6, 4], [10, 2], [13, 5], [27, 3], [28, 6], [45, 17], [79, 28], [100, 34]]\n",
      "Probability of picking the number 0 from a list is 0\n",
      "Probability of picking the number 5 from a list is 1\n",
      "Probability of picking the number 6 from a list is 4\n",
      "Probability of picking the number 10 from a list is 2\n",
      "Probability of picking the number 13 from a list is 5\n",
      "Probability of picking the number 27 from a list is 3\n",
      "Probability of picking the number 28 from a list is 6\n",
      "Probability of picking the number 45 from a list is 17\n",
      "Probability of picking the number 79 from a list is 28\n",
      "Probability of picking the number 100 from a list is 34\n"
     ]
    }
   ],
   "source": [
    "import random\n",
    "from itertools import accumulate\n",
    "\n",
    "def sampling_based_on_magnitued(A):\n",
    "\n",
    "    A.sort()\n",
    "\n",
    "    cum_sum=list(accumulate(A))\n",
    "    print(cum_sum)\n",
    "    result=random.choices(A,cum_weights=cum_sum,k=100)\n",
    "    print(result)\n",
    "    prob_list=[]\n",
    "    for i in A:\n",
    "        prob=result.count(i)\n",
    "        values=[i,prob]\n",
    "        prob_list.append(values)\n",
    "    print(prob_list)\n",
    "    for j in prob_list:\n",
    "        print('Probability of picking the number '+str(j[0])+' from a list is '+str(j[1]))\n",
    "\n",
    "\n",
    "A = [0, 5 ,27, 6 ,13, 28 ,100, 45, 10, 79]\n",
    "sampling_based_on_magnitued(A)"
   ]
  },
  {
   "cell_type": "code",
   "execution_count": 4,
   "metadata": {},
   "outputs": [
    {
     "name": "stdout",
     "output_type": "stream",
     "text": [
      "How many terms? 5\n",
      "Fibonacci sequence:\n",
      "0\n",
      "1\n",
      "1\n",
      "2\n",
      "3\n"
     ]
    }
   ],
   "source": [
    "def recur_fibo(n):   # recursive fibonnaci\n",
    "   if n <= 1:  \n",
    "       return n  \n",
    "   else:  \n",
    "       return(recur_fibo(n-1) + recur_fibo(n-2))  \n",
    "# take input from the user  \n",
    "nterms = int(input(\"How many terms? \"))  \n",
    "# check if the number of terms is valid  \n",
    "if nterms <= 0:  \n",
    "   print(\"Plese enter a positive integer\")  \n",
    "else:  \n",
    "   print(\"Fibonacci sequence:\")  \n",
    "   for i in range(nterms):  \n",
    "       print(recur_fibo(i))  "
   ]
  },
  {
   "cell_type": "code",
   "execution_count": 3,
   "metadata": {},
   "outputs": [
    {
     "name": "stdout",
     "output_type": "stream",
     "text": [
      "Enter a number: 6\n",
      "The factorial of 6 is 720\n"
     ]
    }
   ],
   "source": [
    "def recur_factorial(n):   # recursive factorial\n",
    "   if n == 1:  \n",
    "       return n  \n",
    "   else:  \n",
    "       return n*recur_factorial(n-1)  \n",
    "# take input from the user  \n",
    "num = int(input(\"Enter a number: \"))  \n",
    "# check is the number is negative  \n",
    "if num < 0:  \n",
    "   print(\"Sorry, factorial does not exist for negative numbers\")  \n",
    "elif num == 0:  \n",
    "   print(\"The factorial of 0 is 1\")  \n",
    "else:  \n",
    "   print(\"The factorial of\",num,\"is\",recur_factorial(num)) "
   ]
  }
 ],
 "metadata": {
  "kernelspec": {
   "display_name": "Python 3",
   "language": "python",
   "name": "python3"
  },
  "language_info": {
   "codemirror_mode": {
    "name": "ipython",
    "version": 3
   },
   "file_extension": ".py",
   "mimetype": "text/x-python",
   "name": "python",
   "nbconvert_exporter": "python",
   "pygments_lexer": "ipython3",
   "version": "3.8.5"
  }
 },
 "nbformat": 4,
 "nbformat_minor": 4
}
